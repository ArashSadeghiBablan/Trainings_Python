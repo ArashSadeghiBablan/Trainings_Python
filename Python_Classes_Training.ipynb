{
 "cells": [
  {
   "attachments": {},
   "cell_type": "markdown",
   "metadata": {},
   "source": [
    "Exercise: Bank Account\n",
    "\n",
    "Create a Python class called BankAccount that represents a bank account. The class should have the following attributes and methods:\n",
    "\n",
    "Attributes:\n",
    "\n",
    "account_number (a string) - representing the account number.\n",
    "balance (a float) - representing the account balance.\n",
    "Methods:\n",
    "\n",
    "deposit(amount) - deposits the specified amount into the account.\n",
    "withdraw(amount) - withdraws the specified amount from the account.\n",
    "get_balance() - returns the current account balance.\n",
    "Instructions:\n",
    "\n",
    "Implement the BankAccount class with the attributes and methods mentioned above.\n",
    "Initialize the account_number and balance attributes in the class constructor (__init__ method).\n",
    "Implement the deposit, withdraw, and get_balance methods to modify and retrieve the account balance accordingly.\n",
    "Test your class by creating an instance of BankAccount, performing some deposits and withdrawals, and checking the balance."
   ]
  },
  {
   "cell_type": "code",
   "execution_count": 2,
   "metadata": {},
   "outputs": [
    {
     "name": "stdout",
     "output_type": "stream",
     "text": [
      "Account Number: 1234567890\n",
      "Initial Balance: 0.0\n",
      "Current Balance: 50.0\n"
     ]
    }
   ],
   "source": [
    "class BankAccount:\n",
    "    def __init__(self, account_number, balance=0.0):\n",
    "        self.account_number = account_number\n",
    "        self.balance = balance\n",
    "\n",
    "    def deposit(self, amount):\n",
    "        self.balance += amount\n",
    "\n",
    "    def withdraw(self, amount):\n",
    "        if amount <= self.balance:\n",
    "            self.balance -= amount\n",
    "        else:\n",
    "            print(\"Insufficient funds.\")\n",
    "\n",
    "    def get_balance(self):\n",
    "        return self.balance\n",
    "\n",
    "# Test the BankAccount class\n",
    "my_account = BankAccount(\"1234567890\")\n",
    "print(\"Account Number:\", my_account.account_number)\n",
    "print(\"Initial Balance:\", my_account.get_balance())\n",
    "\n",
    "my_account.deposit(100)\n",
    "my_account.withdraw(50)\n",
    "print(\"Current Balance:\", my_account.get_balance())\n"
   ]
  },
  {
   "cell_type": "code",
   "execution_count": null,
   "metadata": {},
   "outputs": [],
   "source": []
  }
 ],
 "metadata": {
  "kernelspec": {
   "display_name": "Python 3 (ipykernel)",
   "language": "python",
   "name": "python3"
  },
  "language_info": {
   "codemirror_mode": {
    "name": "ipython",
    "version": 3
   },
   "file_extension": ".py",
   "mimetype": "text/x-python",
   "name": "python",
   "nbconvert_exporter": "python",
   "pygments_lexer": "ipython3",
   "version": "3.9.13"
  },
  "vscode": {
   "interpreter": {
    "hash": "ad2bdc8ecc057115af97d19610ffacc2b4e99fae6737bb82f5d7fb13d2f2c186"
   }
  }
 },
 "nbformat": 4,
 "nbformat_minor": 1
}
