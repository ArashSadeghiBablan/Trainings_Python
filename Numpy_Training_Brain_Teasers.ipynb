{
 "cells": [
  {
   "cell_type": "markdown",
   "metadata": {},
   "source": [
    "# Brain Teasers\n",
    "for more brain teasers, please see: http://www.labri.fr/perso/nrougier/teaching/numpy.100/index.html"
   ]
  },
  {
   "cell_type": "code",
   "execution_count": 1,
   "metadata": {
    "collapsed": true
   },
   "outputs": [],
   "source": [
    "import numpy as np\n",
    "np.set_printoptions(precision=2)"
   ]
  },
  {
   "cell_type": "markdown",
   "metadata": {},
   "source": [
    "### What version of NumPy are you using?"
   ]
  },
  {
   "cell_type": "code",
   "execution_count": 2,
   "metadata": {
    "collapsed": true
   },
   "outputs": [
    {
     "data": {
      "text/plain": [
       "'1.20.3'"
      ]
     },
     "execution_count": 2,
     "metadata": {},
     "output_type": "execute_result"
    }
   ],
   "source": [
    "np.__version__"
   ]
  },
  {
   "cell_type": "markdown",
   "metadata": {},
   "source": [
    "### Display array elements in reverse order"
   ]
  },
  {
   "cell_type": "code",
   "execution_count": 3,
   "metadata": {
    "collapsed": true
   },
   "outputs": [],
   "source": [
    "array1 = np.arange(3)"
   ]
  },
  {
   "cell_type": "code",
   "execution_count": 4,
   "metadata": {
    "collapsed": true
   },
   "outputs": [
    {
     "data": {
      "text/plain": [
       "array([2, 1, 0])"
      ]
     },
     "execution_count": 4,
     "metadata": {},
     "output_type": "execute_result"
    }
   ],
   "source": [
    "np.flip(array1)"
   ]
  },
  {
   "cell_type": "markdown",
   "metadata": {},
   "source": [
    "### Triple elements in array"
   ]
  },
  {
   "cell_type": "code",
   "execution_count": 5,
   "metadata": {
    "collapsed": true
   },
   "outputs": [
    {
     "name": "stdout",
     "output_type": "stream",
     "text": [
      "first option: [0 1 2 0 1 2 0 1 2]\n",
      "second option: [[0 1 2]\n",
      " [0 1 2]\n",
      " [0 1 2]]\n"
     ]
    }
   ],
   "source": [
    "print('first option:', np.tile(array1,3))\n",
    "print('second option:', np.tile(array1,(3,1)))"
   ]
  },
  {
   "cell_type": "markdown",
   "metadata": {},
   "source": [
    "### Create array with 20 zeros; every fifth element equals four"
   ]
  },
  {
   "cell_type": "code",
   "execution_count": 6,
   "metadata": {
    "collapsed": true
   },
   "outputs": [
    {
     "data": {
      "text/plain": [
       "array([0., 0., 0., 0., 4., 0., 0., 0., 0., 4., 0., 0., 0., 0., 4., 0., 0.,\n",
       "       0., 0., 4.])"
      ]
     },
     "execution_count": 6,
     "metadata": {},
     "output_type": "execute_result"
    }
   ],
   "source": [
    "array2 = np.zeros(20)\n",
    "array2[4::5] = 4\n",
    "array2"
   ]
  },
  {
   "cell_type": "markdown",
   "metadata": {},
   "source": [
    "### Create a 5x5 identity matrix with integer components"
   ]
  },
  {
   "cell_type": "code",
   "execution_count": 7,
   "metadata": {},
   "outputs": [
    {
     "data": {
      "text/plain": [
       "array([[  1, 999,   0,   0,   0],\n",
       "       [  0,   1,   0,   0,   0],\n",
       "       [  0,   0,   1,   0,   0],\n",
       "       [  0,   0,   0,   1,   0],\n",
       "       [  0,   0,   0,   0,   1]])"
      ]
     },
     "execution_count": 7,
     "metadata": {},
     "output_type": "execute_result"
    }
   ],
   "source": [
    "matrix1 = np.eye(5,dtype='int32')\n",
    "matrix1[0,1] = 999\n",
    "matrix1"
   ]
  },
  {
   "cell_type": "markdown",
   "metadata": {},
   "source": [
    "### Transpose the rows and columns"
   ]
  },
  {
   "cell_type": "code",
   "execution_count": 8,
   "metadata": {
    "collapsed": true
   },
   "outputs": [
    {
     "data": {
      "text/plain": [
       "array([[  1,   0,   0,   0,   0],\n",
       "       [999,   1,   0,   0,   0],\n",
       "       [  0,   0,   1,   0,   0],\n",
       "       [  0,   0,   0,   1,   0],\n",
       "       [  0,   0,   0,   0,   1]])"
      ]
     },
     "execution_count": 8,
     "metadata": {},
     "output_type": "execute_result"
    }
   ],
   "source": [
    "matrix1.T"
   ]
  },
  {
   "cell_type": "markdown",
   "metadata": {},
   "source": [
    "### Find the mean of a vector with 30 random elements.  Can you guess the approximate value for the mean?"
   ]
  },
  {
   "cell_type": "code",
   "execution_count": 9,
   "metadata": {
    "collapsed": true
   },
   "outputs": [
    {
     "name": "stdout",
     "output_type": "stream",
     "text": [
      "[0.33 0.54 0.91 0.03 0.32 0.02 0.6  0.22 0.73 0.8  0.31 0.45 0.8  0.53\n",
      " 0.73 0.33 0.5  0.81 0.75 0.04 0.91 0.41 0.1  0.49 0.01 0.68 0.65 0.11\n",
      " 0.86 0.37]\n",
      "0.47817177605108063\n"
     ]
    }
   ],
   "source": [
    "vector1 = np.random.random(30)\n",
    "print(vector1)\n",
    "print(vector1.mean())"
   ]
  },
  {
   "cell_type": "markdown",
   "metadata": {},
   "source": [
    "### Create an 8x8 checker board with alternating zeros and ones"
   ]
  },
  {
   "cell_type": "code",
   "execution_count": 10,
   "metadata": {
    "collapsed": true
   },
   "outputs": [
    {
     "data": {
      "text/plain": [
       "array([[0., 1., 0., 1., 0., 1., 0., 1.],\n",
       "       [1., 0., 1., 0., 1., 0., 1., 0.],\n",
       "       [0., 1., 0., 1., 0., 1., 0., 1.],\n",
       "       [1., 0., 1., 0., 1., 0., 1., 0.],\n",
       "       [0., 1., 0., 1., 0., 1., 0., 1.],\n",
       "       [1., 0., 1., 0., 1., 0., 1., 0.],\n",
       "       [0., 1., 0., 1., 0., 1., 0., 1.],\n",
       "       [1., 0., 1., 0., 1., 0., 1., 0.]])"
      ]
     },
     "execution_count": 10,
     "metadata": {},
     "output_type": "execute_result"
    }
   ],
   "source": [
    "checker_board = np.zeros(8*8).reshape(8,8)\n",
    "checker_board[1::2,::2] = 1\n",
    "checker_board[0::2,1::2] = 1\n",
    "checker_board"
   ]
  },
  {
   "cell_type": "code",
   "execution_count": 11,
   "metadata": {},
   "outputs": [
    {
     "data": {
      "text/plain": [
       "array([0, 1, 2, 3, 4, 5, 6, 7, 8, 9])"
      ]
     },
     "execution_count": 11,
     "metadata": {},
     "output_type": "execute_result"
    }
   ],
   "source": [
    "def sorter(n):\n",
    "    output = np.arange(n)\n",
    "    output = np.sort(output)\n",
    "    return output\n",
    "sorter(10)"
   ]
  },
  {
   "cell_type": "markdown",
   "metadata": {},
   "source": [
    "### Create a sorted vector that contain 'n' random numbers"
   ]
  },
  {
   "cell_type": "code",
   "execution_count": 12,
   "metadata": {
    "collapsed": true
   },
   "outputs": [
    {
     "data": {
      "text/plain": [
       "array([0.13, 0.21, 0.29, 0.41, 0.43, 0.53, 0.63, 0.65, 0.66, 0.82])"
      ]
     },
     "execution_count": 12,
     "metadata": {},
     "output_type": "execute_result"
    }
   ],
   "source": [
    "import numpy as np\n",
    "def sorted_vector(n):\n",
    "    output = np.random.random(n)\n",
    "    return np.sort(output)\n",
    "sorted_vector(10)"
   ]
  },
  {
   "cell_type": "markdown",
   "metadata": {},
   "source": [
    "### Without sorting, replace largest element in random array with the value 1234"
   ]
  },
  {
   "cell_type": "code",
   "execution_count": 13,
   "metadata": {},
   "outputs": [
    {
     "name": "stdout",
     "output_type": "stream",
     "text": [
      "[1234.0, 0.55, 0.6, 0.43, 0.32, 0.88, 0.02, 0.12]\n",
      "[1234.      0.55    0.6     0.43    0.32    0.88    0.02    0.12]\n"
     ]
    }
   ],
   "source": [
    "array3 = np.random.random(8)\n",
    "array3[array3.argmax()] = 1234\n",
    "np.set_printoptions(precision=2,suppress=True)\n",
    "array3_list = list(np.around(array3,2))\n",
    "print(array3_list)\n",
    "print(np.array(array3_list))\n"
   ]
  },
  {
   "cell_type": "markdown",
   "metadata": {},
   "source": [
    "### Given the following data type and data set; sort according to 'height'\n",
    "\n",
    "source: http://docs.scipy.org/doc/numpy/reference/generated/numpy.sort.html"
   ]
  },
  {
   "cell_type": "code",
   "execution_count": 14,
   "metadata": {
    "collapsed": true
   },
   "outputs": [],
   "source": [
    "camelot_dtype = [('name', 'S10'), ('height', float), ('age', int)]\n",
    "camelot_values = [('Arthur', 1.8, 41), ('Lancelot', 1.9, 38), ('Galahad', 1.7, 38)]"
   ]
  },
  {
   "cell_type": "code",
   "execution_count": 15,
   "metadata": {
    "collapsed": true
   },
   "outputs": [
    {
     "name": "stdout",
     "output_type": "stream",
     "text": [
      "[(b'Galahad', 1.7, 38) (b'Arthur', 1.8, 41) (b'Lancelot', 1.9, 38)]\n",
      "(b'Galahad', 1.7, 38)\n",
      "(b'Arthur', 1.8, 41)\n",
      "(b'Lancelot', 1.9, 38)\n"
     ]
    }
   ],
   "source": [
    "structured_camelot_values = np.array(camelot_values,dtype=camelot_dtype)\n",
    "sorted_camelot_values = np.sort(structured_camelot_values, order='height')\n",
    "print(sorted_camelot_values)\n",
    "for i in sorted_camelot_values:\n",
    "    print(i)\n",
    "#np.sort(a, order='height')"
   ]
  },
  {
   "cell_type": "markdown",
   "metadata": {},
   "source": [
    "### Make an array read-only (immutable)"
   ]
  },
  {
   "cell_type": "code",
   "execution_count": 16,
   "metadata": {
    "collapsed": true
   },
   "outputs": [],
   "source": [
    "array4 = np.arange(10)\n",
    "array4.setflags(write=False)"
   ]
  },
  {
   "cell_type": "markdown",
   "metadata": {},
   "source": [
    "### Print enumerated values from a 3x3 NumPy array"
   ]
  },
  {
   "cell_type": "code",
   "execution_count": 17,
   "metadata": {
    "collapsed": true
   },
   "outputs": [
    {
     "name": "stdout",
     "output_type": "stream",
     "text": [
      "[[1 2 3]\n",
      " [4 5 6]\n",
      " [7 8 9]]\n",
      "<numpy.ndenumerate object at 0x000001F41387BFA0>\n",
      "(0, 0) 1\n",
      "(0, 1) 2\n",
      "(0, 2) 3\n",
      "(1, 0) 4\n",
      "(1, 1) 5\n",
      "(1, 2) 6\n",
      "(2, 0) 7\n",
      "(2, 1) 8\n",
      "(2, 2) 9\n"
     ]
    }
   ],
   "source": [
    "array5 = np.arange(9).reshape(3,3) + 1\n",
    "print(array5)\n",
    "print(np.ndenumerate(array5))\n",
    "for (index, value) in np.ndenumerate(array5):\n",
    "    print (index, value)"
   ]
  }
 ],
 "metadata": {
  "kernelspec": {
   "display_name": "Python 3.9.7 ('base')",
   "language": "python",
   "name": "python3"
  },
  "language_info": {
   "codemirror_mode": {
    "name": "ipython",
    "version": 3
   },
   "file_extension": ".py",
   "mimetype": "text/x-python",
   "name": "python",
   "nbconvert_exporter": "python",
   "pygments_lexer": "ipython3",
   "version": "3.9.7"
  },
  "vscode": {
   "interpreter": {
    "hash": "ad2bdc8ecc057115af97d19610ffacc2b4e99fae6737bb82f5d7fb13d2f2c186"
   }
  }
 },
 "nbformat": 4,
 "nbformat_minor": 0
}
